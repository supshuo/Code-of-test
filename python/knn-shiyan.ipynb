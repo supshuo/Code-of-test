{
 "cells": [
  {
   "cell_type": "markdown",
   "metadata": {},
   "source": [
    "1、首先载入IRIS的数据集，此数据集在sklearn内已经储存好。"
   ]
  },
  {
   "cell_type": "code",
   "execution_count": 1,
   "metadata": {},
   "outputs": [],
   "source": [
    "from sklearn.datasets import load_iris \n",
    "iris = load_iris()  "
   ]
  },
  {
   "cell_type": "markdown",
   "metadata": {},
   "source": [
    "2、划分训练集和测试集m"
   ]
  },
  {
   "cell_type": "code",
   "execution_count": 2,
   "metadata": {},
   "outputs": [],
   "source": [
    "from sklearn.model_selection import train_test_split\n",
    "x=iris.data\n",
    "y=iris.target\n",
    "x_train,x_test,y_train,y_test=train_test_split(x,y,test_size=0.3,random_state=0)"
   ]
  },
  {
   "cell_type": "markdown",
   "metadata": {},
   "source": [
    "3、构建kNN分类器\n"
   ]
  },
  {
   "cell_type": "code",
   "execution_count": 3,
   "metadata": {},
   "outputs": [],
   "source": [
    "from sklearn import neighbors \n",
    "knn = neighbors.KNeighborsClassifier() "
   ]
  },
  {
   "cell_type": "markdown",
   "metadata": {},
   "source": [
    "4、训练、测试及模型评估\n",
    "\n"
   ]
  },
  {
   "cell_type": "code",
   "execution_count": 4,
   "metadata": {},
   "outputs": [
    {
     "data": {
      "text/plain": [
       "KNeighborsClassifier(algorithm='auto', leaf_size=30, metric='minkowski',\n",
       "           metric_params=None, n_jobs=None, n_neighbors=5, p=2,\n",
       "           weights='uniform')"
      ]
     },
     "execution_count": 4,
     "metadata": {},
     "output_type": "execute_result"
    }
   ],
   "source": [
    "# （1）训练\n",
    "knn.fit(x_train, y_train) "
   ]
  },
  {
   "cell_type": "markdown",
   "metadata": {},
   "source": []
  },
  {
   "cell_type": "code",
   "execution_count": 12,
   "metadata": {
    "scrolled": true
   },
   "outputs": [
    {
     "name": "stdout",
     "output_type": "stream",
     "text": [
      "Accuracy of the classifier = 97.78 %\n"
     ]
    }
   ],
   "source": [
    "# （2）测试（循环进行即可）\n",
    "y_test_pred = knn.predict(x_test)\n",
    "accuracy1 = 100.0 * (y_test == y_test_pred).sum() / x_test.shape[0]\n",
    "print (\"Accuracy of the classifier =\", round(accuracy1, 2), \"%\")"
   ]
  },
  {
   "cell_type": "code",
   "execution_count": 14,
   "metadata": {},
   "outputs": [
    {
     "name": "stdout",
     "output_type": "stream",
     "text": [
      "分类返回结果为2 ['virginica']\t真实结果为2 virginica\n",
      "分类返回结果为1 ['versicolor']\t真实结果为1 versicolor\n",
      "分类返回结果为0 ['setosa']\t真实结果为0 setosa\n",
      "分类返回结果为2 ['virginica']\t真实结果为2 virginica\n",
      "分类返回结果为0 ['setosa']\t真实结果为0 setosa\n",
      "分类返回结果为2 ['virginica']\t真实结果为2 virginica\n",
      "分类返回结果为0 ['setosa']\t真实结果为0 setosa\n",
      "分类返回结果为1 ['versicolor']\t真实结果为1 versicolor\n",
      "分类返回结果为1 ['versicolor']\t真实结果为1 versicolor\n",
      "分类返回结果为1 ['versicolor']\t真实结果为1 versicolor\n",
      "分类返回结果为2 ['virginica']\t真实结果为2 virginica\n",
      "分类返回结果为1 ['versicolor']\t真实结果为1 versicolor\n",
      "分类返回结果为1 ['versicolor']\t真实结果为1 versicolor\n",
      "分类返回结果为1 ['versicolor']\t真实结果为1 versicolor\n",
      "分类返回结果为1 ['versicolor']\t真实结果为1 versicolor\n",
      "分类返回结果为0 ['setosa']\t真实结果为0 setosa\n",
      "分类返回结果为1 ['versicolor']\t真实结果为1 versicolor\n",
      "分类返回结果为1 ['versicolor']\t真实结果为1 versicolor\n",
      "分类返回结果为0 ['setosa']\t真实结果为0 setosa\n",
      "分类返回结果为0 ['setosa']\t真实结果为0 setosa\n",
      "分类返回结果为2 ['virginica']\t真实结果为2 virginica\n",
      "分类返回结果为1 ['versicolor']\t真实结果为1 versicolor\n",
      "分类返回结果为0 ['setosa']\t真实结果为0 setosa\n",
      "分类返回结果为0 ['setosa']\t真实结果为0 setosa\n",
      "分类返回结果为2 ['virginica']\t真实结果为2 virginica\n",
      "分类返回结果为0 ['setosa']\t真实结果为0 setosa\n",
      "分类返回结果为0 ['setosa']\t真实结果为0 setosa\n",
      "分类返回结果为1 ['versicolor']\t真实结果为1 versicolor\n",
      "分类返回结果为1 ['versicolor']\t真实结果为1 versicolor\n",
      "分类返回结果为0 ['setosa']\t真实结果为0 setosa\n",
      "分类返回结果为2 ['virginica']\t真实结果为2 virginica\n",
      "分类返回结果为1 ['versicolor']\t真实结果为1 versicolor\n",
      "分类返回结果为0 ['setosa']\t真实结果为0 setosa\n",
      "分类返回结果为2 ['virginica']\t真实结果为2 virginica\n",
      "分类返回结果为2 ['virginica']\t真实结果为2 virginica\n",
      "分类返回结果为1 ['versicolor']\t真实结果为1 versicolor\n",
      "分类返回结果为0 ['setosa']\t真实结果为0 setosa\n",
      "分类返回结果为2 ['virginica']\t真实结果为1 versicolor\n",
      "分类返回结果为1 ['versicolor']\t真实结果为1 versicolor\n",
      "分类返回结果为1 ['versicolor']\t真实结果为1 versicolor\n",
      "分类返回结果为2 ['virginica']\t真实结果为2 virginica\n",
      "分类返回结果为0 ['setosa']\t真实结果为0 setosa\n",
      "分类返回结果为2 ['virginica']\t真实结果为2 virginica\n",
      "分类返回结果为0 ['setosa']\t真实结果为0 setosa\n",
      "分类返回结果为0 ['setosa']\t真实结果为0 setosa\n"
     ]
    }
   ],
   "source": [
    "for i in range(len(x_test)):\n",
    "    predict = knn.predict([x_test[i]])\n",
    "    print(\"分类返回结果为%d %s\\t真实结果为%d %s\" % (predict,iris.target_names[predict],y_test[i],iris.target_names[y_test[i]]))"
   ]
  },
  {
   "cell_type": "markdown",
   "metadata": {},
   "source": [
    "![test](file://~/mario.gif)"
   ]
  },
  {
   "cell_type": "code",
   "execution_count": null,
   "metadata": {},
   "outputs": [],
   "source": []
  }
 ],
 "metadata": {
  "kernelspec": {
   "display_name": "Python 3",
   "language": "python",
   "name": "python3"
  },
  "language_info": {
   "codemirror_mode": {
    "name": "ipython",
    "version": 3
   },
   "file_extension": ".py",
   "mimetype": "text/x-python",
   "name": "python",
   "nbconvert_exporter": "python",
   "pygments_lexer": "ipython3",
   "version": "3.6.5"
  }
 },
 "nbformat": 4,
 "nbformat_minor": 2
}
