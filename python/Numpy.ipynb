{
 "cells": [
  {
   "cell_type": "markdown",
   "metadata": {},
   "source": [
    "# numpy基础课程 \n",
    "\n",
    "## 第一章  Numpy基础数据结构\n",
    "\n",
    "* 多维数组对象及属性\n",
    "* 创建多维数组（四种方式）\n",
    "\n",
    "## 第二章  Numpy通用函数（多维数组对象的方法）\n",
    "\n",
    "* 数组形状的生成和变换、数组转置(.T/.reshape()/.resize())\n",
    "* 数组类型转换(np.astype()）\n",
    "* 数组堆叠（np.hstack()/np.vstack()/np.stack()) \n",
    "* 数组拆分(np.hsplit()/np.vsplit())\n",
    "* 数组复制(np.copy())\n",
    "* 数组轴对换(np.transpose())\n",
    "* 数组与标量的运算\n",
    "* 数组的一些统计方法(min,max,var/np.sum()/np.sort())\n",
    "\n",
    "##  第三章  Numpy索引及切片\n",
    "\n",
    "* 数组基本索引和切片\n",
    "* 数组布尔索引和切片\n",
    "* 数组花式索引\n",
    "\n",
    "##  第四章 Numpy随机数\n",
    "\n",
    "* np.random.normal  产生正态（高斯）分布的样本值\n",
    "* np.random.rand   产生均匀分布的样本值\n",
    "* np.random.randn   产生正态分布（均值1，方差0）样本值\n",
    "* np.random.randint  从给定的上下限范围内随机选取整数\n",
    "\n",
    "## 第五章  Numpy数据的输入输出\n",
    "\n",
    "* np.save()\n",
    "* np.load()\n",
    "* np.loadtxt()\n",
    "\n",
    "## 第六章  Numpy线性代数\n",
    "\n",
    "* np.linalg.diag 以一维数组的形式返回方阵的对角线(或非对角线元素)\n",
    "    或者将一维数组转换为矩阵\n",
    "\n",
    "* np.linalg.dot  内积\\矩阵乘法\n",
    "\n",
    "* np.linalg.trace 计算对角线元素的和\n",
    "\n",
    "* np.linalg.det 计算矩阵行列式\n",
    "\n",
    "* np.linalg.eig 计算方阵的本征值和本征向量\n",
    "\n",
    "* np.linalg.inv 计算矩阵的逆\n",
    "\n",
    "* np.linalg.pinv 计算矩阵的Moore-penrose伪逆\n",
    "\n",
    "* np.linalg.qr 计算QR分解(返回两个参数q，r）\n",
    "\n",
    "* np.linalg.svd  计算奇异值分解\n",
    "\n",
    "* np.linalg.solve 解线性方程组Ax=b,A是方阵\n",
    "\n",
    "* np.linalg.lstsq 计算Ax=b的最小二乘解"
   ]
  },
  {
   "cell_type": "code",
   "execution_count": null,
   "metadata": {
    "collapsed": true
   },
   "outputs": [],
   "source": [
    "'''\n",
    "【numpy基础课程 第一章】  Numpy基础数据结构\n",
    "\n",
    "NumPy数组是一个多维数组对象，称为ndarray。其由两部分组成：\n",
    "① 实际的数据\n",
    "② 描述这些数据的元数据\n",
    "\n",
    "'''\n"
   ]
  },
  {
   "cell_type": "markdown",
   "metadata": {},
   "source": [
    "## 本章内容：\n",
    "* 多维数组的属性\n",
    "* 创建多维数组（四种方式）"
   ]
  },
  {
   "cell_type": "code",
   "execution_count": 2,
   "metadata": {},
   "outputs": [
    {
     "name": "stdout",
     "output_type": "stream",
     "text": [
      "[1 2 3 4 5 6 7]\n",
      "1\n",
      "(7,)\n",
      "7\n",
      "int32\n",
      "4\n",
      "<memory at 0x0000000006220648>\n"
     ]
    },
    {
     "data": {
      "text/plain": [
       "array([1, 2, 3, 4, 5, 6, 7])"
      ]
     },
     "execution_count": 2,
     "metadata": {},
     "output_type": "execute_result"
    }
   ],
   "source": [
    "# 多维数组ndarray\n",
    "\n",
    "import numpy as np\n",
    "\n",
    "arr = np.array([1,2,3,4,5,6,7])\n",
    "print(arr)          # 输出数组，注意数组的格式：中括号，元素之间没有逗号（和列表区分）\n",
    "print(arr.ndim)     # 输出数组维度的个数（轴数），或者说“秩”，维度的数量也称rank\n",
    "print(arr.shape)    # 数组的维度，对于n行m列的数组，shape为（n，m）\n",
    "print(arr.size)     # 数组的元素总数，对于n行m列的数组，元素总数为n*m\n",
    "print(arr.dtype)    # 数组中元素的类型，类似type()（注意了，type()是函数，.dtype是方法）\n",
    "print(arr.itemsize) # 数组中每个元素的字节大小，int32l类型字节为4，float64的字节为8\n",
    "print(arr.data)     # 包含实际数组元素的缓冲区，由于一般通过数组的索引获取元素，所以通常不需要使用这个属性。\n",
    "arr   # 交互方式下输出，会有array(数组)\n",
    "\n",
    "# 数组的基本属性\n",
    "# ① 数组的维数称为秩（rank），一维数组的秩为1，二维数组的秩为2，以此类推\n",
    "# ② 在NumPy中，每一个线性的数组称为是一个轴（axes），秩其实是描述轴的数量：\n",
    "# 比如说，二维数组相当于是两个一维数组，其中第一个一维数组中每个元素又是一个一维数组（[[1,2,3,4,5,6,7]]这个二维数组的第一个元素是[1,2,3,4,5,6,7])\n",
    "# 所以一维数组就是NumPy中的轴（axes），第一个轴相当于是底层数组，第二个轴是底层数组里的数组。\n",
    "# 而轴的数量——秩，就是数组的维数。 "
   ]
  },
  {
   "cell_type": "code",
   "execution_count": 6,
   "metadata": {},
   "outputs": [
    {
     "name": "stdout",
     "output_type": "stream",
     "text": [
      "[0 1 2 3 4 5 6 7 8 9] <class 'numpy.ndarray'> int32\n",
      "[1.   2.   3.14 4.   5.  ] <class 'numpy.ndarray'> float64\n",
      "[['1' '2' '3']\n",
      " ['a' 'b' 'c']] (2, 3) 2 6\n",
      "[list([1, 2, 3]) ('a', 'b', 'c', 'd')] (2,) 1 2\n"
     ]
    }
   ],
   "source": [
    "# 创建数组（方法1）：array()函数，括号内可以是列表、元祖、数组、生成器等\n",
    "\n",
    "ar1 = np.array(range(10))   # 整型\n",
    "ar2 = np.array([1,2,3.14,4,5])   # 浮点型\n",
    "ar3 = np.array([[1,2,3],('a','b','c')])   # 二维数组：嵌套序列（列表，元祖均可）\n",
    "ar4 = np.array([[1,2,3],('a','b','c','d')])   # 注意嵌套序列数量不一会怎么样\n",
    "print(ar1,type(ar1),ar1.dtype)\n",
    "print(ar2,type(ar2),ar2.dtype)\n",
    "print(ar3,ar3.shape,ar3.ndim,ar3.size)     # 二维数组，共6个元素\n",
    "print(ar4,ar4.shape,ar4.ndim,ar4.size)     # 一维数组，共2个元素"
   ]
  },
  {
   "cell_type": "code",
   "execution_count": 8,
   "metadata": {
    "scrolled": true
   },
   "outputs": [
    {
     "name": "stdout",
     "output_type": "stream",
     "text": [
      "[0 1 2 3 4 5 6 7 8 9]\n",
      "<class 'numpy.ndarray'>\n",
      "[0. 1. 2. 3. 4. 5. 6. 7. 8. 9.]\n",
      "[ 5  6  7  8  9 10 11]\n",
      "[ 5.  7.  9. 11.]\n",
      "[   0    1    2 ... 9997 9998 9999]\n"
     ]
    }
   ],
   "source": [
    "# 创建数组（方法2）：arange()，类似range()，在给定间隔内返回均匀间隔的值。\n",
    "\n",
    "print(np.arange(10))    # 返回0-9，整型\n",
    "print(type(np.arange(10)))\n",
    "print(np.arange(10.0))  # 返回0.0-9.0，浮点型\n",
    "print(np.arange(5,12))  # 返回5-11\n",
    "print(np.arange(5.0,12,2))  # 返回5.0-12.0，步长为2\n",
    "print(np.arange(10000))  # 如果数组太大而无法打印，NumPy会自动跳过数组的中心部分，并只打印边角："
   ]
  },
  {
   "cell_type": "code",
   "execution_count": 3,
   "metadata": {},
   "outputs": [
    {
     "name": "stdout",
     "output_type": "stream",
     "text": [
      "[2.   2.25 2.5  2.75 3.  ] <class 'numpy.ndarray'>\n",
      "[2.  2.2 2.4 2.6 2.8]\n",
      "(array([2.  , 2.25, 2.5 , 2.75, 3.  ]), 0.25) <class 'tuple'>\n"
     ]
    }
   ],
   "source": [
    "# 创建数组（方式3）：linspace():返回在间隔[开始，停止]上计算的num个均匀间隔的样本。\n",
    "\n",
    "ar1 = np.linspace(2.0, 3.0, num=5)\n",
    "ar2 = np.linspace(2.0, 3.0, num=5, endpoint=False)\n",
    "ar3 = np.linspace(2.0, 3.0, num=5, retstep=True)\n",
    "print(ar1,type(ar1))\n",
    "print(ar2)\n",
    "print(ar3,type(ar3))\n",
    "# numpy.linspace(start, stop, num=50, endpoint=True, retstep=False, dtype=None)\n",
    "# start：起始值，stop：结束值\n",
    "# num：生成样本数，默认为50\n",
    "# endpoint：如果为真，则停止是最后一个样本。否则，不包括在内。默认值为True。\n",
    "# retstep：如果为真，返回（样本，步骤），其中步长是样本之间的间距 → 输出为一个包含2个元素的元祖，第一个元素为array，第二个为步长实际值"
   ]
  },
  {
   "cell_type": "code",
   "execution_count": 9,
   "metadata": {},
   "outputs": [
    {
     "name": "stdout",
     "output_type": "stream",
     "text": [
      "zeros()、----------------------\n",
      "[0. 0. 0. 0. 0.] float64\n",
      "[[0 0]\n",
      " [0 0]] int32\n",
      "zeros_like()、----------------------\n",
      "[[0 1 2 3 4]\n",
      " [5 6 7 8 9]]\n",
      "[[0 0 0 0 0]\n",
      " [0 0 0 0 0]]\n",
      "one()、----------------------\n",
      "[1. 1. 1. 1. 1. 1. 1. 1. 1.]\n",
      "[[[1. 1. 1. 1.]\n",
      "  [1. 1. 1. 1.]\n",
      "  [1. 1. 1. 1.]]\n",
      "\n",
      " [[1. 1. 1. 1.]\n",
      "  [1. 1. 1. 1.]\n",
      "  [1. 1. 1. 1.]]]\n",
      "one_like()、----------------------\n",
      "[[1 1 1 1 1]\n",
      " [1 1 1 1 1]]\n"
     ]
    }
   ],
   "source": [
    "# 创建数组（方式4）：zeros()/zeros_like()/ones()/ones_like()\n",
    "print('zeros()、----------------------')\n",
    "ar1 = np.zeros(5)  \n",
    "ar2 = np.zeros((2,2), dtype = np.int)\n",
    "print(ar1,ar1.dtype)\n",
    "print(ar2,ar2.dtype)\n",
    "# numpy.zeros(shape, dtype=float, order='C'):返回给定形状和类型的新数组，用零填充。\n",
    "# shape：数组纬度，二维以上需要用()，且输入参数为整数\n",
    "# dtype：数据类型，默认numpy.float64\n",
    "# order：是否在存储器中以C（列优先）或Fortran（行优先）存储多维数据。\n",
    "\n",
    "print('zeros_like()、----------------------')\n",
    "ar3 = np.array([list(range(5)),list(range(5,10))])\n",
    "ar4 = np.zeros_like(ar3)\n",
    "print(ar3)\n",
    "print(ar4)\n",
    "# 返回具有与给定数组相同的形状和类型的零数组，这里ar4根据ar3的形状和dtype创建一个全0的数组\n",
    "\n",
    "print('one()、----------------------')\n",
    "ar5 = np.ones(9)\n",
    "ar6 = np.ones((2,3,4))\n",
    "ar7 = np.ones_like(ar3)\n",
    "print(ar5)\n",
    "print(ar6)\n",
    "print('one_like()、----------------------')\n",
    "print(ar7)\n",
    "# ones()/ones_like()和zeros()/zeros_like()一样，只是填充为1"
   ]
  },
  {
   "cell_type": "code",
   "execution_count": 10,
   "metadata": {},
   "outputs": [
    {
     "name": "stdout",
     "output_type": "stream",
     "text": [
      "[[1. 0. 0. 0. 0.]\n",
      " [0. 1. 0. 0. 0.]\n",
      " [0. 0. 1. 0. 0.]\n",
      " [0. 0. 0. 1. 0.]\n",
      " [0. 0. 0. 0. 1.]]\n"
     ]
    }
   ],
   "source": [
    "# 创建数组：eye()\n",
    "\n",
    "print(np.eye(5))\n",
    "# 创建一个正方的N*N的单位矩阵，对角线值为1，其余为0"
   ]
  },
  {
   "cell_type": "markdown",
   "metadata": {},
   "source": [
    "ndarray的数据类型\n",
    "\n",
    "bool\t用一个字节存储的布尔类型（True或False）\n",
    "\n",
    "inti\t由所在平台决定其大小的整数（一般为int32或int64）\n",
    "\n",
    "int8\t一个字节大小，-128 至 127\n",
    "\n",
    "int16\t整数，-32768 至 32767\n",
    "\n",
    "int32\t整数，-2 ** 31 至 2 ** 32 -1\n",
    "\n",
    "int64\t整数，-2 ** 63 至 2 ** 63 - 1\n",
    "\n",
    "uint8\t无符号整数，0 至 255\n",
    "\n",
    "uint16\t无符号整数，0 至 65535\n",
    "\n",
    "uint32\t无符号整数，0 至 2 ** 32 - 1\n",
    "\n",
    "uint64\t无符号整数，0 至 2 ** 64 - 1\n",
    "\n",
    "float16\t半精度浮点数：16位，正负号1位，指数5位，精度10位\n",
    "\n",
    "float32\t单精度浮点数：32位，正负号1位，指数8位，精度23位\n",
    "\n",
    "float64或float\t双精度浮点数：64位，正负号1位，指数11位，精度52位\n",
    "\n",
    "complex64\t复数，分别用两个32位浮点数表示实部和虚部\n",
    "\n",
    "complex128或complex\t复数，分别用两个64位浮点数表示实部和虚部"
   ]
  },
  {
   "cell_type": "code",
   "execution_count": null,
   "metadata": {},
   "outputs": [],
   "source": [
    "#练习1.1：生成一个一维数组，起始值为5，终点值为15，样本数为10个（答案在整个文章末尾）"
   ]
  },
  {
   "cell_type": "code",
   "execution_count": null,
   "metadata": {
    "collapsed": true
   },
   "outputs": [],
   "source": [
    "'''\n",
    "【numpy基础课程 第二章】  Numpy通用函数\n",
    "\n",
    "基本操作\n",
    "\n",
    "'''"
   ]
  },
  {
   "cell_type": "code",
   "execution_count": 11,
   "metadata": {},
   "outputs": [
    {
     "name": "stdout",
     "output_type": "stream",
     "text": [
      "[0 1 2 3 4 5 6 7 8 9] \n",
      " [0 1 2 3 4 5 6 7 8 9]\n",
      "[[1. 1.]\n",
      " [1. 1.]\n",
      " [1. 1.]\n",
      " [1. 1.]\n",
      " [1. 1.]] \n",
      " [[1. 1. 1. 1. 1.]\n",
      " [1. 1. 1. 1. 1.]]\n",
      "------\n",
      "[0 1 2 3 4 5 6 7 8 9] \n",
      " [[0 1 2 3 4]\n",
      " [5 6 7 8 9]]\n",
      "[[0. 0. 0. 0. 0. 0. 0. 0.]\n",
      " [0. 0. 0. 0. 0. 0. 0. 0.]\n",
      " [0. 0. 0. 0. 0. 0. 0. 0.]]\n",
      "[[ 0  1  2  3]\n",
      " [ 4  5  6  7]\n",
      " [ 8  9 10 11]]\n",
      "------\n",
      "[[0 1 2 3]\n",
      " [4 0 1 2]\n",
      " [3 4 0 1]]\n"
     ]
    }
   ],
   "source": [
    "# 数组形状：.T/.reshape()/.resize()\n",
    "\n",
    "#.T转置\n",
    "#.reshape()改变数组形状，比如2x3，改成3x2\n",
    "#.resize() 生成具有指定形状的新数组\n",
    "\n",
    "ar1 = np.arange(10)\n",
    "ar2 = np.ones((5,2))\n",
    "print(ar1,'\\n',ar1.T)\n",
    "print(ar2,'\\n',ar2.T)\n",
    "print('------')\n",
    "# .T方法：转置，例如原shape为(3,4)/(2,3,4)，转置结果为(4,3)/(4,3,2) → 所以一维数组转置后结果不变\n",
    "\n",
    "ar3 = ar1.reshape(2,5)     # 用法1：直接将已有数组改变形状             \n",
    "ar4 = np.zeros((4,6)).reshape(3,8)   # 用法2：生成数组后直接改变形状\n",
    "ar5 = np.reshape(np.arange(12),(3,4))   # 用法3：参数内添加数组，目标形状\n",
    "print(ar1,'\\n',ar3)\n",
    "print(ar4)\n",
    "print(ar5)\n",
    "print('------')\n",
    "# numpy.reshape(a, newshape, order='C')：为数组提供新形状，而不更改其数据，所以元素数量需要一致！！\n",
    "\n",
    "ar6 = np.resize(np.arange(5),(3,4))\n",
    "print(ar6)\n",
    "# numpy.resize(a, new_shape)：返回具有指定形状的新数组，如有必要可重复填充所需数量的元素。\n",
    "# 注意：.T/.reshape()/.resize()都是生成新的数组！！！"
   ]
  },
  {
   "cell_type": "code",
   "execution_count": 8,
   "metadata": {},
   "outputs": [
    {
     "name": "stdout",
     "output_type": "stream",
     "text": [
      "True\n",
      "[0 1 9 3 4 5 6 7 8 9] [0 1 9 3 4 5 6 7 8 9]\n",
      "False\n",
      "[9 1 9 3 4 5 6 7 8 9] [0 1 9 3 4 5 6 7 8 9]\n"
     ]
    }
   ],
   "source": [
    "# 数组的复制（.copy())\n",
    "\n",
    "ar1 = np.arange(10)\n",
    "ar2 = ar1\n",
    "print(ar2 is ar1)\n",
    "ar1[2] = 9\n",
    "print(ar1,ar2)\n",
    "# 回忆python的赋值逻辑：指向内存中生成的一个值 → 这里ar1和ar2指向同一个值，所以ar1改变，ar2一起改变\n",
    "\n",
    "ar3 = ar1.copy()\n",
    "print(ar3 is ar1)\n",
    "ar1[0] = 9\n",
    "print(ar1,ar3)\n",
    "# copy方法生成数组及其数据的完整拷贝\n",
    "# 再次提醒：.T/.reshape()/.resize()都是生成新的数组！！！"
   ]
  },
  {
   "cell_type": "code",
   "execution_count": 13,
   "metadata": {},
   "outputs": [
    {
     "name": "stdout",
     "output_type": "stream",
     "text": [
      "[0. 1. 2. 3. 4. 5. 6. 7. 8. 9.] float64\n",
      "-------------------------------------\n",
      "[0 1 2 3 4 5 6 7 8 9] int32\n",
      "[0. 1. 2. 3. 4. 5. 6. 7. 8. 9.] float64\n"
     ]
    }
   ],
   "source": [
    "# 数组类型转换：.astype()\n",
    "\n",
    "#这里把float类型转为np.int32\n",
    "ar1 = np.arange(10,dtype=float)\n",
    "print(ar1,ar1.dtype)\n",
    "print('-------------------------------------')\n",
    "# 可以在参数位置设置数组类型\n",
    "\n",
    "ar2 = ar1.astype(np.int32)\n",
    "print(ar2,ar2.dtype)\n",
    "print(ar1,ar1.dtype)\n",
    "# a.astype()：转换数组类型\n",
    "# 注意：养成好习惯，数组类型用np.int32，而不是直接int32"
   ]
  },
  {
   "cell_type": "code",
   "execution_count": 12,
   "metadata": {},
   "outputs": [
    {
     "name": "stdout",
     "output_type": "stream",
     "text": [
      "[[10 11 12]\n",
      " [13 14 15]]\n",
      "[[ 0  2  4]\n",
      " [ 6  8 10]]\n",
      "[[ 1.          0.5         0.33333333]\n",
      " [ 0.25        0.2         0.16666667]]\n",
      "[[ 0.          1.          1.41421356]\n",
      " [ 1.73205081  2.          2.23606798]]\n",
      "2.5\n",
      "5\n",
      "0\n",
      "1.70782512766\n",
      "2.91666666667\n",
      "15 [3 5 7]\n",
      "[1 2 3 4 5 6]\n"
     ]
    }
   ],
   "source": [
    "# 数组简单运算\n",
    "\n",
    "ar = np.arange(6).reshape(2,3)\n",
    "print(ar + 10)   # 加法\n",
    "print(ar * 2)   # 乘法\n",
    "print(1 / (ar+1))  # 除法\n",
    "print(ar ** 0.5)  # 幂\n",
    "# 与标量的运算\n",
    "\n",
    "print(ar.mean())  # 求平均值\n",
    "print(ar.max())  # 求最大值\n",
    "print(ar.min())  # 求最小值\n",
    "print(ar.std())  # 求标准差\n",
    "print(ar.var())  # 求方差\n",
    "print(ar.sum(), np.sum(ar,axis = 0))  # 求和，np.sum() → axis为0，按列求和；axis为1，按行求和\n",
    "print(np.sort(np.array([1,4,3,2,5,6])))  # 排序\n",
    "# 常用函数"
   ]
  },
  {
   "cell_type": "code",
   "execution_count": null,
   "metadata": {},
   "outputs": [],
   "source": [
    "#练习2.1 创建一个20个元素的数组，分别改变成两个形状：(4,5),(5,6) （提示：超出范围用resize）"
   ]
  },
  {
   "cell_type": "code",
   "execution_count": null,
   "metadata": {},
   "outputs": [],
   "source": [
    "#练习2.2 创建一个(4,4)的数组，把其元素类型改为字符型"
   ]
  },
  {
   "cell_type": "code",
   "execution_count": null,
   "metadata": {},
   "outputs": [],
   "source": [
    "#练习2.3 根据要求创建数组（（4,4）数组，数值0-15），运用数组的运算方法得到结果：result = ar * 10 +100，并求出result的均值及求和"
   ]
  },
  {
   "cell_type": "code",
   "execution_count": null,
   "metadata": {
    "collapsed": true
   },
   "outputs": [],
   "source": [
    "'''\n",
    "【numpy基础课程 第三章】  Numpy索引及切片\n",
    "\n",
    "核心：基本索引及切片 / 布尔型索引及切片\n",
    "\n",
    "'''"
   ]
  },
  {
   "cell_type": "code",
   "execution_count": 16,
   "metadata": {},
   "outputs": [
    {
     "name": "stdout",
     "output_type": "stream",
     "text": [
      "[ 0  1  2  3  4  5  6  7  8  9 10 11 12 13 14 15 16 17 18 19]\n",
      "4\n",
      "[3 4 5]\n",
      "-----------------------\n",
      "[[ 0  1  2  3]\n",
      " [ 4  5  6  7]\n",
      " [ 8  9 10 11]\n",
      " [12 13 14 15]] 数组轴数为2\n",
      "[ 8  9 10 11] 数组轴数为1\n",
      "9\n",
      "[[ 4  5  6  7]\n",
      " [ 8  9 10 11]] 数组轴数为2\n",
      "10\n",
      "[[1 2 3]\n",
      " [5 6 7]]\n",
      "------------------------\n",
      "[[[0 1]\n",
      "  [2 3]]\n",
      "\n",
      " [[4 5]\n",
      "  [6 7]]] 数组轴数为3\n",
      "[[0 1]\n",
      " [2 3]] 数组轴数为2\n",
      "[0 1] 数组轴数为1\n",
      "1 数组轴数为0\n"
     ]
    }
   ],
   "source": [
    "# 基本索引及切片\n",
    "\n",
    "\n",
    "# 一维数组索引及切片（和我们讲的列表和字符串切片类似）\n",
    "ar = np.arange(20)\n",
    "print(ar)\n",
    "print(ar[4])\n",
    "print(ar[3:6])\n",
    "print('-----------------------')\n",
    "\n",
    "\n",
    "# 二维数组索引及切片\n",
    "ar = np.arange(16).reshape(4,4)\n",
    "print(ar, '数组轴数为%i' %ar.ndim)   # 4*4的数组\n",
    "print(ar[2],  '数组轴数为%i' %ar[2].ndim)  # 切片为下一维度的一个元素，所以是一维数组\n",
    "print(ar[2][1]) # 二次索引，得到一维数组中的一个值\n",
    "print(ar[1:3],  '数组轴数为%i' %ar[1:3].ndim)  # 切片为两个一维数组组成的二维数组\n",
    "print(ar[2,2])  # 切片数组中的第三行第三列 → 10\n",
    "print(ar[:2,1:])  # 切片数组中的1,2行、2,3,4列 → 二维数组\n",
    "print('------------------------')\n"
   ]
  },
  {
   "cell_type": "code",
   "execution_count": 17,
   "metadata": {},
   "outputs": [
    {
     "name": "stdout",
     "output_type": "stream",
     "text": [
      "[[ 0  1  2  3]\n",
      " [ 4  5  6  7]\n",
      " [ 8  9 10 11]]\n",
      "[ True False  True]\n",
      "[ True  True False False]\n",
      "[[ 0  1  2  3]\n",
      " [ 8  9 10 11]]\n",
      "[[0 1]\n",
      " [4 5]\n",
      " [8 9]]\n",
      "[[False False False False]\n",
      " [False False  True  True]\n",
      " [ True  True  True  True]]\n",
      "[ 6  7  8  9 10 11]\n"
     ]
    }
   ],
   "source": [
    "# 布尔型索引及切片\n",
    "\n",
    "ar = np.arange(12).reshape(3,4)\n",
    "i = np.array([True,False,True])\n",
    "j = np.array([True,True,False,False])\n",
    "print(ar)\n",
    "print(i)\n",
    "print(j)\n",
    "print(ar[i,:])  # 在第一维度做判断，只保留True，这里第一维度就是行，ar[i,:] = ar[i]（简单书写格式）\n",
    "print(ar[:,j])  # 在第二维度做判断，这里如果ar[:,i]会有警告，因为i是3个元素，而ar在列上有4个\n",
    "# 布尔型索引：以布尔型的矩阵去做筛选\n",
    "\n",
    "m = ar > 5\n",
    "print(m)  # 这里m是一个判断矩阵\n",
    "print(ar[m])  # 用m判断矩阵去筛选ar数组中>5的元素 → 重点！后面的pandas判断方式原理就来自此处"
   ]
  },
  {
   "cell_type": "code",
   "execution_count": 15,
   "metadata": {},
   "outputs": [
    {
     "name": "stdout",
     "output_type": "stream",
     "text": [
      "[0 1 2 3 4 5 6 7 8 9]\n",
      "[  0   1   2   3   4 100   6 200 200   9]\n",
      "[0 1 2 3 4 5 6 7 8 9]\n",
      "[  0   1   2   3   4   5   6 200 200   9]\n"
     ]
    }
   ],
   "source": [
    "# 数组索引及切片的值更改、复制\n",
    "\n",
    "ar = np.arange(10)\n",
    "print(ar)\n",
    "ar[5] = 100\n",
    "ar[7:9] = 200\n",
    "print(ar)\n",
    "# 一个标量赋值给一个索引/切片时，会自动改变/传播原始数组\n",
    "\n",
    "ar = np.arange(10)\n",
    "b = ar.copy()\n",
    "b[7:9] = 200\n",
    "print(ar)\n",
    "print(b)\n",
    "# 复制"
   ]
  },
  {
   "cell_type": "code",
   "execution_count": null,
   "metadata": {},
   "outputs": [],
   "source": [
    "#练习3.1 创建数组（np.arange(25).reshape((5,5))，通过索引，其ar[4]、ar[:2,3:]、ar[3][2]分别是多少"
   ]
  },
  {
   "cell_type": "code",
   "execution_count": null,
   "metadata": {},
   "outputs": [],
   "source": [
    "#练习3.2 创建数组([0,1,2,3,4]，[5,6,7,8,9]]),筛选出元素值大于5的值并生成新的数组"
   ]
  },
  {
   "cell_type": "code",
   "execution_count": null,
   "metadata": {
    "collapsed": true
   },
   "outputs": [],
   "source": [
    "'''\n",
    "【numpy基础课程 第四章】  Numpy随机数\n",
    "\n",
    "numpy.random包含多种概率分布的随机样本，是数据分析辅助的重点工具之一\n",
    "\n",
    "'''"
   ]
  },
  {
   "cell_type": "code",
   "execution_count": 16,
   "metadata": {},
   "outputs": [
    {
     "name": "stdout",
     "output_type": "stream",
     "text": [
      "[[ 0.17875618 -1.19367146 -1.29127688  1.11541622]\n",
      " [ 1.48126355 -0.81119863 -0.94187702 -0.13203948]\n",
      " [ 0.11418808 -2.34415548  0.17391121  1.4822019 ]\n",
      " [ 0.46157021  0.43227682  0.58489093  0.74553395]]\n"
     ]
    }
   ],
   "source": [
    "# 随机数生成\n",
    "\n",
    "samples = np.random.normal(size=(4,4))\n",
    "print(samples)\n",
    "# 生成一个标准正太分布的4*4样本值"
   ]
  },
  {
   "cell_type": "code",
   "execution_count": 34,
   "metadata": {},
   "outputs": [
    {
     "name": "stdout",
     "output_type": "stream",
     "text": [
      "0.4681008067649427 <class 'float'>\n",
      "[0.49705859 0.14626415 0.33183182 0.15700914] <class 'numpy.ndarray'>\n",
      "[[0.33493786 0.13208379 0.55300772]\n",
      " [0.42549125 0.92750982 0.6942551 ]] <class 'numpy.ndarray'>\n"
     ]
    },
    {
     "data": {
      "text/plain": [
       "<matplotlib.collections.PathCollection at 0x7421400>"
      ]
     },
     "execution_count": 34,
     "metadata": {},
     "output_type": "execute_result"
    }
   ],
   "source": [
    "# numpy.random.rand(d0, d1, ..., dn)：生成一个[0,1)之间的随机浮点数或N维浮点数组 —— 均匀分布\n",
    "\n",
    "import matplotlib.pyplot as plt  # 导入matplotlib模块，用于图表辅助分析\n",
    "% matplotlib inline \n",
    "# % matplotlib inline 魔法函数，每次运行自动生成图表，否则是不显示图表的，这个只在notebook里面用，其他编辑器不需要\n",
    "\n",
    "a = np.random.rand()\n",
    "print(a,type(a))  # 生成一个随机浮点数\n",
    "\n",
    "b = np.random.rand(4)\n",
    "print(b,type(b))  # 生成形状为4的一维数组\n",
    "\n",
    "c = np.random.rand(2,3)\n",
    "print(c,type(c))  # 生成形状为2*3的二维数组，注意这里不是((2,3))\n",
    "\n",
    "samples1 = np.random.rand(1000)\n",
    "samples2 = np.random.rand(1000)\n",
    "plt.scatter(samples1,samples2)\n",
    "# 生成1000个均匀分布的样本值"
   ]
  },
  {
   "cell_type": "code",
   "execution_count": 5,
   "metadata": {},
   "outputs": [
    {
     "data": {
      "text/plain": [
       "<matplotlib.collections.PathCollection at 0x1b42654a7b8>"
      ]
     },
     "execution_count": 5,
     "metadata": {},
     "output_type": "execute_result"
    },
    {
     "data": {
      "image/png": "[encoded data removed]",
      "text/plain": [
       "<Figure size 432x288 with 1 Axes>"
      ]
     },
     "metadata": {},
     "output_type": "display_data"
    }
   ],
   "source": [
    "#  numpy.random.randn(d0, d1, ..., dn)：生成一个浮点数或N维浮点数组 —— 正态分布\n",
    "#randomnormal记忆\n",
    "samples1 = np.random.randn(1000)\n",
    "samples2 = np.random.randn(1000)\n",
    "plt.scatter(samples1,samples2)\n",
    "# randn和rand的参数用法一样\n",
    "# 生成1000个正太的样本值"
   ]
  },
  {
   "cell_type": "code",
   "execution_count": 19,
   "metadata": {},
   "outputs": [
    {
     "name": "stdout",
     "output_type": "stream",
     "text": [
      "0\n",
      "[0 1 1 0 1]\n",
      "[2 5 2 3 5]\n",
      "[[0 1 1]\n",
      " [1 1 1]]\n",
      "[[4 4 3]\n",
      " [2 3 3]]\n"
     ]
    }
   ],
   "source": [
    "# numpy.random.randint(low, high=None, size=None, dtype='l')：生成一个整数或N维整数数组\n",
    "# 若high不为None时，取[low,high)之间随机整数，否则取值[0,low)之间随机整数，且high必须大于low \n",
    "# dtype参数：只能是int类型  \n",
    "\n",
    "\n",
    "print(np.random.randint(2))\n",
    "# low=2：生成1个[0,2)之间随机整数  \n",
    "\n",
    "print(np.random.randint(2,size=5))\n",
    "# low=2,size=5 ：生成5个[0,2)之间随机整数\n",
    "\n",
    "print(np.random.randint(2,6,size=5))\n",
    "# low=2,high=6,size=5：生成5个[2,6)之间随机整数  \n",
    "\n",
    "print(np.random.randint(2,size=(2,3)))\n",
    "# low=2,size=(2,3)：生成一个2x3整数数组,取数范围：[0,2)随机整数 \n",
    "\n",
    "print(np.random.randint(2,6,(2,3)))\n",
    "# low=2,high=6,size=(2,3)：生成一个2*3整数数组,取值范围：[2,6)随机整数  "
   ]
  },
  {
   "cell_type": "code",
   "execution_count": null,
   "metadata": {},
   "outputs": [],
   "source": [
    "#练习4.1 创建2个包含10个元素的正太分布一维数组"
   ]
  },
  {
   "cell_type": "code",
   "execution_count": null,
   "metadata": {
    "collapsed": true
   },
   "outputs": [],
   "source": [
    "'''\n",
    "【numpy基础课程 第五章】  Numpy数据的输入输出\n",
    "\n",
    "numpy读取/写入数组数据、文本数据\n",
    "\n",
    "'''"
   ]
  },
  {
   "cell_type": "code",
   "execution_count": 37,
   "metadata": {},
   "outputs": [
    {
     "name": "stdout",
     "output_type": "stream",
     "text": [
      "[[0.64600553 0.05174475 0.60879754 0.20650963 0.00144421]\n",
      " [0.07287466 0.15878134 0.43297513 0.29235211 0.52133874]\n",
      " [0.6065305  0.78975345 0.50164368 0.15963219 0.30818709]\n",
      " [0.9260796  0.1834116  0.90894968 0.19219109 0.09761662]\n",
      " [0.0183177  0.11696707 0.51171119 0.2308239  0.14716232]]\n"
     ]
    }
   ],
   "source": [
    "# 存储数组数据 .npy文件\n",
    "\n",
    "import os\n",
    "os.chdir('C:/Users/Administrator/Desktop/')\n",
    "\n",
    "ar = np.random.rand(5,5)\n",
    "print(ar)\n",
    "np.save('arraydata.npy', ar)\n",
    "# 也可以直接 np.save('C:/Users/Administrator/Desktop/arraydata.npy', ar)"
   ]
  },
  {
   "cell_type": "code",
   "execution_count": 38,
   "metadata": {},
   "outputs": [
    {
     "name": "stdout",
     "output_type": "stream",
     "text": [
      "[[0.64600553 0.05174475 0.60879754 0.20650963 0.00144421]\n",
      " [0.07287466 0.15878134 0.43297513 0.29235211 0.52133874]\n",
      " [0.6065305  0.78975345 0.50164368 0.15963219 0.30818709]\n",
      " [0.9260796  0.1834116  0.90894968 0.19219109 0.09761662]\n",
      " [0.0183177  0.11696707 0.51171119 0.2308239  0.14716232]]\n"
     ]
    }
   ],
   "source": [
    "# 读取数组数据 .npy文件\n",
    "\n",
    "ar_load =np.load('arraydata.npy')\n",
    "print(ar_load)\n",
    "# 也可以直接 np.load('C:/Users/Administrator/Desktop/arraydata.npy')"
   ]
  },
  {
   "cell_type": "code",
   "execution_count": 35,
   "metadata": {},
   "outputs": [
    {
     "name": "stdout",
     "output_type": "stream",
     "text": [
      "[[0.00778034 0.37988834 0.54822007 0.28866256 0.05446708]\n",
      " [0.10477883 0.52581575 0.92350951 0.20353047 0.80063685]\n",
      " [0.09001747 0.32998798 0.33941613 0.87159063 0.83027446]\n",
      " [0.15982052 0.18409717 0.234615   0.99966049 0.75354185]\n",
      " [0.50865828 0.71790968 0.59221204 0.1373458  0.12846049]]\n"
     ]
    }
   ],
   "source": [
    "# 存储/读取文本文件\n",
    "\n",
    "ar = np.random.rand(5,5)\n",
    "np.savetxt('array.txt',ar, delimiter=',')\n",
    "# np.savetxt(fname, X, fmt='%.18e', delimiter=' ', newline='\\n', header='', footer='', comments='# ')：存储为文本txt文件\n",
    "\n",
    "ar_loadtxt = np.loadtxt('array.txt', delimiter=',')\n",
    "print(ar_loadtxt)\n",
    "# 也可以直接 np.loadtxt('C:/Users/Administrator/Desktop/array.txt')"
   ]
  },
  {
   "cell_type": "code",
   "execution_count": null,
   "metadata": {},
   "outputs": [],
   "source": [
    "#练习5.1 创建一个10*10的整数随机数组，取值范围为0-100，并存为txt文件，用逗号分开"
   ]
  },
  {
   "cell_type": "code",
   "execution_count": null,
   "metadata": {},
   "outputs": [],
   "source": [
    "----------------------------------------------------------------------------------"
   ]
  },
  {
   "cell_type": "code",
   "execution_count": null,
   "metadata": {},
   "outputs": [],
   "source": [
    "----------------------------------------------------------------------------------"
   ]
  },
  {
   "cell_type": "code",
   "execution_count": null,
   "metadata": {},
   "outputs": [],
   "source": [
    "---------------------------------答案区-------------------------------------------"
   ]
  },
  {
   "cell_type": "code",
   "execution_count": 39,
   "metadata": {},
   "outputs": [
    {
     "name": "stdout",
     "output_type": "stream",
     "text": [
      "[ 5  6  7  8  9 10 11 12 13 14]\n"
     ]
    }
   ],
   "source": [
    "#练习1.1：\n",
    "print(np.arange(5,15))"
   ]
  },
  {
   "cell_type": "code",
   "execution_count": 40,
   "metadata": {},
   "outputs": [
    {
     "name": "stdout",
     "output_type": "stream",
     "text": [
      "[[ 0  1  2  3  4]\n",
      " [ 5  6  7  8  9]\n",
      " [10 11 12 13 14]\n",
      " [15 16 17 18 19]] \n",
      "-------\n",
      "[[ 0  1  2  3  4  5]\n",
      " [ 6  7  8  9 10 11]\n",
      " [12 13 14 15 16 17]\n",
      " [18 19  0  1  2  3]\n",
      " [ 4  5  6  7  8  9]] \n",
      "-------\n"
     ]
    }
   ],
   "source": [
    "#练习2.1 创建一个20个元素的数组，分别改变成两个形状：(4,5),(5,6) （提示：超出范围用resize）：\n",
    "ar = np.arange(20)\n",
    "print(ar.reshape(4,5), '\\n-------')\n",
    "print(np.resize(ar,(5,6)), '\\n-------')"
   ]
  },
  {
   "cell_type": "markdown",
   "metadata": {},
   "source": []
  },
  {
   "cell_type": "code",
   "execution_count": 41,
   "metadata": {},
   "outputs": [
    {
     "name": "stdout",
     "output_type": "stream",
     "text": [
      "[['0' '1' '2' '3']\n",
      " ['4' '5' '6' '7']\n",
      " ['8' '9' '10' '11']\n",
      " ['12' '13' '14' '15']]\n"
     ]
    }
   ],
   "source": [
    "#练习2.2 创建一个(4,4)的数组，把其元素类型改为字符型\n",
    "ar = np.arange(16).reshape(4,4)\n",
    "print(ar.astype(np.str))"
   ]
  },
  {
   "cell_type": "code",
   "execution_count": 42,
   "metadata": {},
   "outputs": [
    {
     "name": "stdout",
     "output_type": "stream",
     "text": [
      "创建数组为：\n",
      " [[ 0  1  2  3]\n",
      " [ 4  5  6  7]\n",
      " [ 8  9 10 11]\n",
      " [12 13 14 15]] \n",
      "-------\n",
      "计算后的数组为：\n",
      " [[100 110 120 130]\n",
      " [140 150 160 170]\n",
      " [180 190 200 210]\n",
      " [220 230 240 250]] \n",
      "-------\n",
      "result的均值为：\n",
      " 175.0 \n",
      "-------\n",
      "result求和为：\n",
      " 2800 \n",
      "-------\n"
     ]
    }
   ],
   "source": [
    "# 练习2.3 根据要求创建数组（（4,4）数组，数值0-15），运用数组的运算方法得到结果：result = ar * 10 +100，并求出result的均值及求和\n",
    "ar = np.arange(16).reshape(4,4)\n",
    "print('创建数组为：\\n', ar, '\\n-------')\n",
    "result = ar * 10 +100\n",
    "print('计算后的数组为：\\n', result, '\\n-------')\n",
    "print('result的均值为：\\n', result.mean(), '\\n-------')\n",
    "print('result求和为：\\n', result.sum(), '\\n-------')"
   ]
  },
  {
   "cell_type": "code",
   "execution_count": 43,
   "metadata": {},
   "outputs": [
    {
     "name": "stdout",
     "output_type": "stream",
     "text": [
      "[[ 0  1  2  3  4]\n",
      " [ 5  6  7  8  9]\n",
      " [10 11 12 13 14]\n",
      " [15 16 17 18 19]\n",
      " [20 21 22 23 24]] \n",
      "-------\n",
      "ar[4]是：\n",
      " [20 21 22 23 24] \n",
      "-------\n",
      "ar[:2,3:]是：\n",
      " [[3 4]\n",
      " [8 9]] \n",
      "-------\n",
      "ar[3][2]是：\n",
      " 17 \n",
      "-------\n"
     ]
    }
   ],
   "source": [
    "#练习3.1 创建数组（np.arange(25).reshape((5,5))，通过索引，其ar[4]、ar[:2,3:]、ar[3][2]分别是多少\n",
    "ar = np.arange(25).reshape(5,5)\n",
    "print(ar, '\\n-------')\n",
    "print('ar[4]是：\\n',ar[4], '\\n-------')\n",
    "print('ar[:2,3:]是：\\n',ar[:2,3:], '\\n-------')\n",
    "print('ar[3][2]是：\\n',ar[3][2], '\\n-------')"
   ]
  },
  {
   "cell_type": "code",
   "execution_count": 47,
   "metadata": {},
   "outputs": [
    {
     "name": "stdout",
     "output_type": "stream",
     "text": [
      "[[0 1 2 3 4]\n",
      " [5 6 7 8 9]] \n",
      "-------\n",
      "大于5的值为： [6 7 8 9]\n"
     ]
    },
    {
     "name": "stderr",
     "output_type": "stream",
     "text": [
      "D:\\ProgramData\\Anaconda3\\lib\\site-packages\\ipykernel_launcher.py:4: FutureWarning: Using a non-tuple sequence for multidimensional indexing is deprecated; use `arr[tuple(seq)]` instead of `arr[seq]`. In the future this will be interpreted as an array index, `arr[np.array(seq)]`, which will result either in an error or a different result.\n",
      "  after removing the cwd from sys.path.\n"
     ]
    }
   ],
   "source": [
    "#练习3.2 创建数组([0,1,2,3,4]，[5,6,7,8,9]]),筛选出元素值大于5的值并生成新的数组\n",
    "ar = np.arange(10).reshape(2,5)\n",
    "print(ar, '\\n-------')\n",
    "#print('大于5的值为：',ar[[ar>5]])\n",
    "print('大于5的值为：',ar[(ar>5)])   "
   ]
  },
  {
   "cell_type": "code",
   "execution_count": 48,
   "metadata": {},
   "outputs": [
    {
     "name": "stdout",
     "output_type": "stream",
     "text": [
      "[[-0.044971    2.22342645 -1.37530624 -2.36381053 -1.19263144]\n",
      " [-0.18933195 -1.71511023 -0.03026385 -0.50559039  0.15370388]] \n",
      "-------\n",
      "[[ 2.02416711 -0.73601974 -0.16235405  2.75948755 -0.06308102]\n",
      " [-1.61710373 -0.29751959  1.43553929 -1.68859242 -1.3664278 ]] \n",
      "-------\n",
      "结果为：\n",
      " [[-0.044971    2.22342645 -1.37530624 -2.36381053 -1.19263144]\n",
      " [-0.18933195 -1.71511023 -0.03026385 -0.50559039  0.15370388]\n",
      " [ 2.02416711 -0.73601974 -0.16235405  2.75948755 -0.06308102]\n",
      " [-1.61710373 -0.29751959  1.43553929 -1.68859242 -1.3664278 ]]\n"
     ]
    }
   ],
   "source": [
    "#练习4.1 创建2个包含10个元素的正太分布一维数组\n",
    "ar1 = np.random.normal(size = (2,5))\n",
    "ar2 = np.random.normal(size = (2,5))\n",
    "print(ar1, '\\n-------')\n",
    "print(ar2, '\\n-------')\n",
    "print('结果为：\\n',np.vstack((ar1,ar2)))"
   ]
  },
  {
   "cell_type": "code",
   "execution_count": 49,
   "metadata": {},
   "outputs": [
    {
     "name": "stdout",
     "output_type": "stream",
     "text": [
      "[[ 6 47 19 58 53 28 44 15 10 86]\n",
      " [84 32 36 59 84  1 88  0 35 13]\n",
      " [99 37 17 49  4 66 33 68  6 15]\n",
      " [91 84 93 25 35 18 80 10 87 19]\n",
      " [36 83 41  5 77 51 60  9 20 80]\n",
      " [ 6 24 73  8 38  0 59 24 84 56]\n",
      " [32 10 90 37 24 23 23 32 55 35]\n",
      " [71 95 77 75 85 91 49  6 41 95]\n",
      " [10  1 11 10 95 19 81  5  7 78]\n",
      " [95 55 15 15 56  0 19 45 33 63]] \n",
      "--------\n",
      "finished!\n"
     ]
    }
   ],
   "source": [
    "#练习5.1 创建一个10*10的整数随机数组，取值范围为0-100，并存为txt文件，用逗号分开\n",
    "import os\n",
    "os.chdir('C:/Users/Administrator/Desktop/')\n",
    "\n",
    "ar = np.random.randint(100,size=(10,10))\n",
    "print(ar,'\\n--------')\n",
    "np.savetxt('array.txt',ar, delimiter=',',fmt = '%i')\n",
    "print('finished!')"
   ]
  },
  {
   "cell_type": "code",
   "execution_count": null,
   "metadata": {},
   "outputs": [],
   "source": []
  }
 ],
 "metadata": {
  "anaconda-cloud": {},
  "kernelspec": {
   "display_name": "Python 3",
   "language": "python",
   "name": "python3"
  },
  "language_info": {
   "codemirror_mode": {
    "name": "ipython",
    "version": 3
   },
   "file_extension": ".py",
   "mimetype": "text/x-python",
   "name": "python",
   "nbconvert_exporter": "python",
   "pygments_lexer": "ipython3",
   "version": "3.7.1"
  }
 },
 "nbformat": 4,
 "nbformat_minor": 1
}
